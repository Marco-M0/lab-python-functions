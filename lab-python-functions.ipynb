{
 "cells": [
  {
   "cell_type": "markdown",
   "id": "25d7736c-ba17-4aff-b6bb-66eba20fbf4e",
   "metadata": {},
   "source": [
    "# Lab | Functions"
   ]
  },
  {
   "cell_type": "markdown",
   "id": "0c581062-8967-4d93-b06e-62833222f930",
   "metadata": {
    "tags": []
   },
   "source": [
    "## Exercise: Managing Customer Orders with Functions\n",
    "\n",
    "In the previous exercise, you improved the code for managing customer orders by using loops and flow control. Now, let's take it a step further and refactor the code by introducing functions.\n",
    "\n",
    "Follow the steps below to complete the exercise:\n",
    "\n",
    "1. Define a function named `initialize_inventory` that takes `products` as a parameter. Inside the function, implement the code for initializing the inventory dictionary using a loop and user input.\n",
    "\n",
    "2. Define a function named `get_customer_orders` that takes no parameters. Inside the function, implement the code for prompting the user to enter the product names using a loop. The function should return the `customer_orders` set.\n",
    "\n",
    "3. Define a function named `update_inventory` that takes `customer_orders` and `inventory` as parameters. Inside the function, implement the code for updating the inventory dictionary based on the customer orders.\n",
    "\n",
    "4. Define a function named `calculate_order_statistics` that takes `customer_orders` and `products` as parameters. Inside the function, implement the code for calculating the order statistics (total products ordered, and percentage of unique products ordered). The function should return these values.\n",
    "\n",
    "5. Define a function named `print_order_statistics` that takes `order_statistics` as a parameter. Inside the function, implement the code for printing the order statistics.\n",
    "\n",
    "6. Define a function named `print_updated_inventory` that takes `inventory` as a parameter. Inside the function, implement the code for printing the updated inventory.\n",
    "\n",
    "7. Call the functions in the appropriate sequence to execute the program and manage customer orders.\n",
    "\n",
    "Hints for functions:\n",
    "\n",
    "- Consider the input parameters required for each function and their return values.\n",
    "- Utilize function parameters and return values to transfer data between functions.\n",
    "- Test your functions individually to ensure they work correctly.\n",
    "\n",
    "\n"
   ]
  },
  {
   "cell_type": "code",
   "execution_count": 62,
   "id": "eab704df-88c8-4478-93c3-e6efc831ff81",
   "metadata": {},
   "outputs": [
    {
     "name": "stdin",
     "output_type": "stream",
     "text": [
      "Enter the quantity of t-shirts available:  6\n",
      "Enter the quantity of mugs available:  7\n",
      "Enter the quantity of hats available:  8\n",
      "Enter the quantity of books available:  9\n",
      "Enter the quantity of keychains available:  8\n"
     ]
    },
    {
     "name": "stdout",
     "output_type": "stream",
     "text": [
      "Inventory:\n",
      "t-shirt: 6\n",
      "mug: 7\n",
      "hat: 8\n",
      "book: 9\n",
      "keychain: 8\n"
     ]
    }
   ],
   "source": [
    "# 1 Define a function named initialize_inventory that takes products as a parameter. Inside the function, implement the code for initializing the inventory dictionary using a loop and user input.\n",
    "\n",
    "products = [\"t-shirt\", \"mug\", \"hat\", \"book\", \"keychain\"]\n",
    "inventory = {}\n",
    "\n",
    "def initialize_inventory(products):\n",
    "    for product in products:\n",
    "        quantity = int(input(f\"Enter the quantity of {product}s available: \"))\n",
    "        inventory[product] = quantity\n",
    "    print(\"Inventory:\")\n",
    "    for product, quantity in inventory.items():\n",
    "        print(f\"{product}: {quantity}\")\n",
    "    return\n",
    "\n",
    "initialize_inventory(products)"
   ]
  },
  {
   "cell_type": "code",
   "execution_count": 64,
   "id": "de60b926-4520-4202-8c47-b4d6aab6946b",
   "metadata": {},
   "outputs": [
    {
     "name": "stdin",
     "output_type": "stream",
     "text": [
      "Select a product from the list (t-shirt, mug, hat, book, keychain):  mug\n",
      "Do you want to add another product? (yes/no):  yes\n",
      "Select a product from the list (t-shirt, mug, hat, book, keychain):  book\n",
      "Do you want to add another product? (yes/no):  no\n"
     ]
    },
    {
     "data": {
      "text/plain": [
       "{'book', 'mug'}"
      ]
     },
     "execution_count": 64,
     "metadata": {},
     "output_type": "execute_result"
    }
   ],
   "source": [
    "# 2 Define a function named get_customer_orders that takes no parameters. Inside the function, implement the code for prompting the user to enter the product names using a loop. The function should return the customer_orders set.\n",
    "customer_orders = set()\n",
    "\n",
    "def get_customer_orders():\n",
    "    yes_no = 'yes'\n",
    "    while yes_no.lower() == 'yes':\n",
    "        product_order = input(\"Select a product from the list (t-shirt, mug, hat, book, keychain): \")\n",
    "        customer_orders.add(product_order)\n",
    "        yes_no = input(\"Do you want to add another product? (yes/no): \")\n",
    "    return customer_orders\n",
    "\n",
    "get_customer_orders()"
   ]
  },
  {
   "cell_type": "code",
   "execution_count": 66,
   "id": "2b1672a2-dcbd-4d67-a2df-1b6e4a282acc",
   "metadata": {},
   "outputs": [
    {
     "name": "stdout",
     "output_type": "stream",
     "text": [
      "Updated Inventory\n",
      "t-shirt: 6\n",
      "mug: 6\n",
      "hat: 8\n",
      "book: 8\n",
      "keychain: 8\n"
     ]
    }
   ],
   "source": [
    "# 3 Define a function named update_inventory that takes customer_orders and inventory as parameters. Inside the function, implement the code for updating the inventory dictionary based on the customer orders\n",
    "\n",
    "def update_inventory(customer_orders, inventory):\n",
    "    print(\"Updated Inventory\")\n",
    "    for product in customer_orders:\n",
    "        if product in inventory:\n",
    "            inventory[product] -= 1\n",
    "    for product, quantity in inventory.items():\n",
    "        print(f\"{product}: {quantity}\")\n",
    "    return\n",
    "\n",
    "update_inventory(customer_orders, inventory) "
   ]
  },
  {
   "cell_type": "code",
   "execution_count": 127,
   "id": "9e6a1a9c-5274-4cc4-8ae8-8e011038956e",
   "metadata": {},
   "outputs": [
    {
     "data": {
      "text/plain": [
       "(2, 40.0)"
      ]
     },
     "execution_count": 127,
     "metadata": {},
     "output_type": "execute_result"
    }
   ],
   "source": [
    "# 4 Define a function named calculate_order_statistics that takes customer_orders and products as parameters. Inside the function, implement the code for calculating the order statistics (total products ordered, and percentage of unique products ordered). The function should return these values.\n",
    "\n",
    "\n",
    "def calculate_order_statistics(customer_orders, products):\n",
    "    global order_statistics\n",
    "    #print(\"Order Statistics:\")\n",
    "    total_products_ordered = len(customer_orders)\n",
    "    #print(\"Total Products Ordered:\", total_products_ordered)\n",
    "    percentage_ordered = (total_products_ordered / len(products)) * 100\n",
    "    #print(\"Percentage of Products Ordered:\", percentage_ordered, \"%\")\n",
    "    order_statistics = (total_products_ordered, percentage_ordered)\n",
    "    return total_products_ordered, percentage_ordered\n",
    "\n",
    "calculate_order_statistics(customer_orders, products)\n"
   ]
  },
  {
   "cell_type": "code",
   "execution_count": 131,
   "id": "49302f07-ffb7-4103-bc92-5c9fe37d683d",
   "metadata": {},
   "outputs": [
    {
     "name": "stdout",
     "output_type": "stream",
     "text": [
      "Order Statistics:\n",
      "Total Products Ordered: 2\n",
      "Percentage of Products Ordered: 40.0 %\n"
     ]
    }
   ],
   "source": [
    "# 5 Define a function named print_order_statistics that takes order_statistics as a parameter. Inside the function, implement the code for printing the order statistics.\n",
    "\n",
    "def print_order_statistics(order_statistics):\n",
    "    print(\"Order Statistics:\")\n",
    "    #total_products_ordered = len(customer_orders)\n",
    "    print(\"Total Products Ordered:\", order_statistics[0])\n",
    "    #percentage_ordered = (total_products_ordered / len(products)) * 100\n",
    "    print(\"Percentage of Products Ordered:\", order_statistics[1], \"%\")\n",
    "    return\n",
    "    \n",
    "print_order_statistics(order_statistics)"
   ]
  },
  {
   "cell_type": "code",
   "execution_count": 138,
   "id": "9d323427-555a-4e13-ae0f-e0bbfe311f82",
   "metadata": {},
   "outputs": [
    {
     "name": "stdout",
     "output_type": "stream",
     "text": [
      "Updated inventory:\n",
      "t-shirt 6\n",
      "mug 5\n",
      "hat 8\n",
      "book 7\n",
      "keychain 8\n"
     ]
    }
   ],
   "source": [
    "# Define a function named print_updated_inventory that takes inventory as a parameter. Inside the function, implement the code for printing the updated inventory.\n",
    "\n",
    "def print_updated_inventory(inventory):\n",
    "    for product in customer_orders:\n",
    "        inventory[product] -= 1\n",
    "    print(\"Updated inventory:\")\n",
    "    for keys, values in inventory.items():\n",
    "        print(keys,values)\n",
    "    return\n",
    "\n",
    "print_updated_inventory(inventory)\n"
   ]
  },
  {
   "cell_type": "code",
   "execution_count": 144,
   "id": "eb11d2f3-5812-499f-b0a9-faefac45a257",
   "metadata": {},
   "outputs": [
    {
     "name": "stdout",
     "output_type": "stream",
     "text": [
      "\n"
     ]
    },
    {
     "name": "stdin",
     "output_type": "stream",
     "text": [
      "Enter the quantity of t-shirts available:  6\n",
      "Enter the quantity of mugs available:  4\n",
      "Enter the quantity of hats available:  8\n",
      "Enter the quantity of books available:  9\n",
      "Enter the quantity of keychains available:  7\n"
     ]
    },
    {
     "name": "stdout",
     "output_type": "stream",
     "text": [
      "Inventory:\n",
      "t-shirt: 6\n",
      "mug: 4\n",
      "hat: 8\n",
      "book: 9\n",
      "keychain: 7\n",
      "\n"
     ]
    },
    {
     "name": "stdin",
     "output_type": "stream",
     "text": [
      "Select a product from the list (t-shirt, mug, hat, book, keychain):  book\n",
      "Do you want to add another product? (yes/no):  yes\n",
      "Select a product from the list (t-shirt, mug, hat, book, keychain):  keychain\n",
      "Do you want to add another product? (yes/no):  no\n"
     ]
    },
    {
     "name": "stdout",
     "output_type": "stream",
     "text": [
      "\n",
      "Updated Inventory\n",
      "t-shirt: 6\n",
      "mug: 4\n",
      "hat: 8\n",
      "book: 8\n",
      "keychain: 6\n",
      "\n",
      "\n",
      "Order Statistics:\n",
      "Total Products Ordered: 2\n",
      "Percentage of Products Ordered: 40.0 %\n",
      "\n",
      "Updated inventory:\n",
      "t-shirt 6\n",
      "mug 4\n",
      "hat 8\n",
      "book 7\n",
      "keychain 5\n"
     ]
    }
   ],
   "source": [
    "products = [\"t-shirt\", \"mug\", \"hat\", \"book\", \"keychain\"]\n",
    "inventory = {}\n",
    "customer_orders = set()\n",
    "print(\"\")\n",
    "initialize_inventory(products)\n",
    "print(\"\")\n",
    "get_customer_orders()\n",
    "print(\"\")\n",
    "update_inventory(customer_orders, inventory) \n",
    "print(\"\")\n",
    "calculate_order_statistics(customer_orders, products)\n",
    "print(\"\")\n",
    "print_order_statistics(order_statistics)\n",
    "print(\"\")\n",
    "print_updated_inventory(inventory)"
   ]
  }
 ],
 "metadata": {
  "kernelspec": {
   "display_name": "Python 3 (ipykernel)",
   "language": "python",
   "name": "python3"
  },
  "language_info": {
   "codemirror_mode": {
    "name": "ipython",
    "version": 3
   },
   "file_extension": ".py",
   "mimetype": "text/x-python",
   "name": "python",
   "nbconvert_exporter": "python",
   "pygments_lexer": "ipython3",
   "version": "3.12.4"
  }
 },
 "nbformat": 4,
 "nbformat_minor": 5
}
